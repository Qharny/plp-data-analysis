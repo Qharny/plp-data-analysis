{
 "cells": [
  {
   "cell_type": "code",
   "execution_count": 1,
   "metadata": {},
   "outputs": [
    {
     "ename": "ModuleNotFoundError",
     "evalue": "No module named 'pandas'",
     "output_type": "error",
     "traceback": [
      "\u001b[31m---------------------------------------------------------------------------\u001b[39m",
      "\u001b[31mModuleNotFoundError\u001b[39m                       Traceback (most recent call last)",
      "\u001b[36mCell\u001b[39m\u001b[36m \u001b[39m\u001b[32mIn[1]\u001b[39m\u001b[32m, line 1\u001b[39m\n\u001b[32m----> \u001b[39m\u001b[32m1\u001b[39m \u001b[38;5;28;01mimport\u001b[39;00m\u001b[38;5;250m \u001b[39m\u001b[34;01mpandas\u001b[39;00m\u001b[38;5;250m \u001b[39m\u001b[38;5;28;01mas\u001b[39;00m\u001b[38;5;250m \u001b[39m\u001b[34;01mpd\u001b[39;00m\n\u001b[32m      2\u001b[39m \u001b[38;5;28;01mimport\u001b[39;00m\u001b[38;5;250m \u001b[39m\u001b[34;01mmatplotlib\u001b[39;00m\u001b[34;01m.\u001b[39;00m\u001b[34;01mpyplot\u001b[39;00m\u001b[38;5;250m \u001b[39m\u001b[38;5;28;01mas\u001b[39;00m\u001b[38;5;250m \u001b[39m\u001b[34;01mplt\u001b[39;00m\n\u001b[32m      4\u001b[39m \u001b[38;5;66;03m# Using the same DataFrame from above\u001b[39;00m\n",
      "\u001b[31mModuleNotFoundError\u001b[39m: No module named 'pandas'"
     ]
    }
   ],
   "source": [
    "import pandas as pd\n",
    "import matplotlib.pyplot as plt\n",
    "\n",
    "# Using the same DataFrame from above\n",
    "data = {\n",
    "    'Product': ['Laptop', 'Phone', 'Tablet', 'Monitor', 'Keyboard'],\n",
    "    'Price': [1200, 800, 500, 350, 100],\n",
    "    'Stock': [15, 25, 30, 10, 50],\n",
    "    'Category': ['Electronics', 'Electronics', 'Electronics', 'Accessories', 'Accessories']\n",
    "}\n",
    "df = pd.DataFrame(data)\n",
    "df['Value'] = df['Price'] * df['Stock']\n",
    "\n",
    "# Creating a bar chart of product prices\n",
    "plt.figure(figsize=(10, 6))\n",
    "plt.bar(df['Product'], df['Price'], color='skyblue')\n",
    "plt.title('Product Prices')\n",
    "plt.xlabel('Product')\n",
    "plt.ylabel('Price ($)')\n",
    "plt.xticks(rotation=45)\n",
    "plt.grid(axis='y', linestyle='--', alpha=0.7)\n",
    "plt.tight_layout()\n",
    "plt.show()\n",
    "\n",
    "# Creating a pie chart of inventory value distribution\n",
    "plt.figure(figsize=(8, 8))\n",
    "plt.pie(df['Value'], labels=df['Product'], autopct='%1.1f%%', \n",
    "        startangle=90, shadow=True, explode=[0.1, 0, 0, 0, 0])\n",
    "plt.title('Inventory Value Distribution')\n",
    "plt.axis('equal')  # Equal aspect ratio ensures that pie is drawn as a circle\n",
    "plt.tight_layout()\n",
    "plt.show()\n",
    "\n",
    "# Creating a scatter plot of price vs. stock with size representing value\n",
    "plt.figure(figsize=(10, 6))\n",
    "scatter = plt.scatter(df['Price'], df['Stock'], s=df['Value']/100, \n",
    "                     alpha=0.6, c=df['Category'].astype('category').cat.codes, cmap='viridis')\n",
    "plt.title('Price vs. Stock (size represents total value)')\n",
    "plt.xlabel('Price ($)')\n",
    "plt.ylabel('Stock (units)')\n",
    "plt.grid(True, alpha=0.3)\n",
    "categories = df['Category'].unique()\n",
    "plt.colorbar(scatter, label='Category', ticks=[0, 1], \n",
    "             boundaries=range(3))\n",
    "plt.tight_layout()\n",
    "plt.show()\n",
    "\n",
    "# Creating a grouped bar chart for price and stock by product\n",
    "fig, ax1 = plt.subplots(figsize=(12, 6))\n",
    "\n",
    "# Bar chart for Price\n",
    "x = range(len(df['Product']))\n",
    "ax1.bar([i - 0.2 for i in x], df['Price'], width=0.4, color='royalblue', label='Price ($)')\n",
    "ax1.set_ylabel('Price ($)', color='royalblue')\n",
    "ax1.tick_params(axis='y', labelcolor='royalblue')\n",
    "\n",
    "# Create a second y-axis for Stock\n",
    "ax2 = ax1.twinx()\n",
    "ax2.bar([i + 0.2 for i in x], df['Stock'], width=0.4, color='tomato', label='Stock (units)')\n",
    "ax2.set_ylabel('Stock (units)', color='tomato')\n",
    "ax2.tick_params(axis='y', labelcolor='tomato')\n",
    "\n",
    "# Set x-axis labels\n",
    "plt.xticks(x, df['Product'], rotation=45)\n",
    "plt.title('Price and Stock Comparison by Product')\n",
    "plt.tight_layout()\n",
    "\n",
    "# Create a combined legend\n",
    "lines1, labels1 = ax1.get_legend_handles_labels()\n",
    "lines2, labels2 = ax2.get_legend_handles_labels()\n",
    "ax1.legend(lines1 + lines2, labels1 + labels2, loc='upper right')\n",
    "\n",
    "plt.show()"
   ]
  }
 ],
 "metadata": {
  "kernelspec": {
   "display_name": "Python 3",
   "language": "python",
   "name": "python3"
  },
  "language_info": {
   "codemirror_mode": {
    "name": "ipython",
    "version": 3
   },
   "file_extension": ".py",
   "mimetype": "text/x-python",
   "name": "python",
   "nbconvert_exporter": "python",
   "pygments_lexer": "ipython3",
   "version": "3.13.3"
  }
 },
 "nbformat": 4,
 "nbformat_minor": 2
}
